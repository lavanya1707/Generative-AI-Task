{
 "cells": [
  {
   "cell_type": "markdown",
   "id": "f0e6ccff",
   "metadata": {},
   "source": [
    "# Generative AI Task"
   ]
  },
  {
   "cell_type": "markdown",
   "id": "14a8cc1b",
   "metadata": {},
   "source": [
    "###### Creating a generative model involves several steps, including selecting a type of content, choosing a dataset, implementing a model architecture, and training the model. Below is a very simple example using Python and TensorFlow to create a text generation model using a basic Recurrent Neural Network (RNN)"
   ]
  },
  {
   "cell_type": "code",
   "execution_count": 1,
   "id": "f19b6668",
   "metadata": {},
   "outputs": [],
   "source": [
    "import numpy as np\n",
    "import tensorflow as tf\n",
    "from tensorflow.keras.models import Sequential\n",
    "from tensorflow.keras.layers import Embedding, LSTM, Dense"
   ]
  },
  {
   "cell_type": "code",
   "execution_count": 2,
   "id": "4ccb5a7f",
   "metadata": {},
   "outputs": [],
   "source": [
    "# Generate dummy dataset\n",
    "texts = [\"The quick brown fox jumps over the lazy dog.\",\n",
    "         \"A journey of a thousand miles begins with a single step.\",\n",
    "         \"To be or not to be, that is the question.\"]"
   ]
  },
  {
   "cell_type": "code",
   "execution_count": 3,
   "id": "7a8c1c72",
   "metadata": {},
   "outputs": [],
   "source": [
    "# Preprocess the text data\n",
    "tokenizer = tf.keras.preprocessing.text.Tokenizer()\n",
    "tokenizer.fit_on_texts(texts)\n",
    "total_words = len(tokenizer.word_index) + 1"
   ]
  },
  {
   "cell_type": "code",
   "execution_count": 4,
   "id": "6defb3c7",
   "metadata": {},
   "outputs": [],
   "source": [
    "input_sequences = []\n",
    "for line in texts:\n",
    "    token_list = tokenizer.texts_to_sequences([line])[0]\n",
    "    for i in range(1, len(token_list)):\n",
    "        n_gram_sequence = token_list[:i+1]\n",
    "        input_sequences.append(n_gram_sequence)"
   ]
  },
  {
   "cell_type": "code",
   "execution_count": 5,
   "id": "078e2902",
   "metadata": {},
   "outputs": [],
   "source": [
    "max_sequence_length = max([len(seq) for seq in input_sequences])\n",
    "input_sequences = tf.keras.preprocessing.sequence.pad_sequences(input_sequences, maxlen=max_sequence_length, padding='pre')\n"
   ]
  },
  {
   "cell_type": "code",
   "execution_count": 6,
   "id": "e0a12bb5",
   "metadata": {},
   "outputs": [],
   "source": [
    "X, y = input_sequences[:, :-1], input_sequences[:, -1]\n",
    "y = tf.keras.utils.to_categorical(y, num_classes=total_words)"
   ]
  },
  {
   "cell_type": "code",
   "execution_count": 7,
   "id": "4b34b0e8",
   "metadata": {},
   "outputs": [],
   "source": [
    "# Build the model\n",
    "model = Sequential()\n",
    "model.add(Embedding(total_words, 50, input_length=max_sequence_length-1))\n",
    "model.add(LSTM(100))\n",
    "model.add(Dense(total_words, activation='softmax'))"
   ]
  },
  {
   "cell_type": "code",
   "execution_count": 8,
   "id": "ff184512",
   "metadata": {},
   "outputs": [],
   "source": [
    "model.compile(optimizer='adam', loss='categorical_crossentropy', metrics=['accuracy'])"
   ]
  },
  {
   "cell_type": "code",
   "execution_count": 9,
   "id": "4c5a1acc",
   "metadata": {},
   "outputs": [
    {
     "name": "stdout",
     "output_type": "stream",
     "text": [
      "Epoch 1/100\n",
      "1/1 [==============================] - 2s 2s/step - loss: 3.2185 - accuracy: 0.1111\n",
      "Epoch 2/100\n",
      "1/1 [==============================] - 0s 15ms/step - loss: 3.2142 - accuracy: 0.1852\n",
      "Epoch 3/100\n",
      "1/1 [==============================] - 0s 15ms/step - loss: 3.2099 - accuracy: 0.1111\n",
      "Epoch 4/100\n",
      "1/1 [==============================] - 0s 15ms/step - loss: 3.2055 - accuracy: 0.1852\n",
      "Epoch 5/100\n",
      "1/1 [==============================] - 0s 14ms/step - loss: 3.2009 - accuracy: 0.1481\n",
      "Epoch 6/100\n",
      "1/1 [==============================] - 0s 16ms/step - loss: 3.1961 - accuracy: 0.1481\n",
      "Epoch 7/100\n",
      "1/1 [==============================] - 0s 15ms/step - loss: 3.1910 - accuracy: 0.1481\n",
      "Epoch 8/100\n",
      "1/1 [==============================] - 0s 13ms/step - loss: 3.1855 - accuracy: 0.1852\n",
      "Epoch 9/100\n",
      "1/1 [==============================] - 0s 14ms/step - loss: 3.1796 - accuracy: 0.1852\n",
      "Epoch 10/100\n",
      "1/1 [==============================] - 0s 13ms/step - loss: 3.1731 - accuracy: 0.1852\n",
      "Epoch 11/100\n",
      "1/1 [==============================] - 0s 14ms/step - loss: 3.1660 - accuracy: 0.1852\n",
      "Epoch 12/100\n",
      "1/1 [==============================] - 0s 16ms/step - loss: 3.1580 - accuracy: 0.2222\n",
      "Epoch 13/100\n",
      "1/1 [==============================] - 0s 14ms/step - loss: 3.1491 - accuracy: 0.2222\n",
      "Epoch 14/100\n",
      "1/1 [==============================] - 0s 16ms/step - loss: 3.1391 - accuracy: 0.2222\n",
      "Epoch 15/100\n",
      "1/1 [==============================] - 0s 14ms/step - loss: 3.1278 - accuracy: 0.2222\n",
      "Epoch 16/100\n",
      "1/1 [==============================] - 0s 15ms/step - loss: 3.1152 - accuracy: 0.2222\n",
      "Epoch 17/100\n",
      "1/1 [==============================] - 0s 15ms/step - loss: 3.1009 - accuracy: 0.2222\n",
      "Epoch 18/100\n",
      "1/1 [==============================] - 0s 14ms/step - loss: 3.0851 - accuracy: 0.2222\n",
      "Epoch 19/100\n",
      "1/1 [==============================] - 0s 14ms/step - loss: 3.0679 - accuracy: 0.1481\n",
      "Epoch 20/100\n",
      "1/1 [==============================] - 0s 15ms/step - loss: 3.0498 - accuracy: 0.1481\n",
      "Epoch 21/100\n",
      "1/1 [==============================] - 0s 13ms/step - loss: 3.0317 - accuracy: 0.1481\n",
      "Epoch 22/100\n",
      "1/1 [==============================] - 0s 13ms/step - loss: 3.0138 - accuracy: 0.1481\n",
      "Epoch 23/100\n",
      "1/1 [==============================] - 0s 15ms/step - loss: 2.9950 - accuracy: 0.1481\n",
      "Epoch 24/100\n",
      "1/1 [==============================] - 0s 16ms/step - loss: 2.9728 - accuracy: 0.1481\n",
      "Epoch 25/100\n",
      "1/1 [==============================] - 0s 13ms/step - loss: 2.9455 - accuracy: 0.1481\n",
      "Epoch 26/100\n",
      "1/1 [==============================] - 0s 17ms/step - loss: 2.9134 - accuracy: 0.1481\n",
      "Epoch 27/100\n",
      "1/1 [==============================] - 0s 13ms/step - loss: 2.8776 - accuracy: 0.1481\n",
      "Epoch 28/100\n",
      "1/1 [==============================] - 0s 14ms/step - loss: 2.8393 - accuracy: 0.1481\n",
      "Epoch 29/100\n",
      "1/1 [==============================] - 0s 14ms/step - loss: 2.7983 - accuracy: 0.1481\n",
      "Epoch 30/100\n",
      "1/1 [==============================] - 0s 14ms/step - loss: 2.7537 - accuracy: 0.1852\n",
      "Epoch 31/100\n",
      "1/1 [==============================] - 0s 14ms/step - loss: 2.7046 - accuracy: 0.1852\n",
      "Epoch 32/100\n",
      "1/1 [==============================] - 0s 14ms/step - loss: 2.6509 - accuracy: 0.1852\n",
      "Epoch 33/100\n",
      "1/1 [==============================] - 0s 14ms/step - loss: 2.5934 - accuracy: 0.1852\n",
      "Epoch 34/100\n",
      "1/1 [==============================] - 0s 14ms/step - loss: 2.5332 - accuracy: 0.1852\n",
      "Epoch 35/100\n",
      "1/1 [==============================] - 0s 13ms/step - loss: 2.4700 - accuracy: 0.1852\n",
      "Epoch 36/100\n",
      "1/1 [==============================] - 0s 13ms/step - loss: 2.4035 - accuracy: 0.1852\n",
      "Epoch 37/100\n",
      "1/1 [==============================] - 0s 13ms/step - loss: 2.3359 - accuracy: 0.1852\n",
      "Epoch 38/100\n",
      "1/1 [==============================] - 0s 11ms/step - loss: 2.2698 - accuracy: 0.1852\n",
      "Epoch 39/100\n",
      "1/1 [==============================] - 0s 13ms/step - loss: 2.2026 - accuracy: 0.1852\n",
      "Epoch 40/100\n",
      "1/1 [==============================] - 0s 14ms/step - loss: 2.1328 - accuracy: 0.2963\n",
      "Epoch 41/100\n",
      "1/1 [==============================] - 0s 12ms/step - loss: 2.0662 - accuracy: 0.2963\n",
      "Epoch 42/100\n",
      "1/1 [==============================] - 0s 13ms/step - loss: 1.9952 - accuracy: 0.2963\n",
      "Epoch 43/100\n",
      "1/1 [==============================] - 0s 13ms/step - loss: 1.9301 - accuracy: 0.2222\n",
      "Epoch 44/100\n",
      "1/1 [==============================] - 0s 14ms/step - loss: 1.8603 - accuracy: 0.4074\n",
      "Epoch 45/100\n",
      "1/1 [==============================] - 0s 12ms/step - loss: 1.7934 - accuracy: 0.4444\n",
      "Epoch 46/100\n",
      "1/1 [==============================] - 0s 15ms/step - loss: 1.7377 - accuracy: 0.4444\n",
      "Epoch 47/100\n",
      "1/1 [==============================] - 0s 17ms/step - loss: 1.7045 - accuracy: 0.4074\n",
      "Epoch 48/100\n",
      "1/1 [==============================] - 0s 16ms/step - loss: 1.6565 - accuracy: 0.4074\n",
      "Epoch 49/100\n",
      "1/1 [==============================] - 0s 15ms/step - loss: 1.6066 - accuracy: 0.4815\n",
      "Epoch 50/100\n",
      "1/1 [==============================] - 0s 16ms/step - loss: 1.5838 - accuracy: 0.5185\n",
      "Epoch 51/100\n",
      "1/1 [==============================] - 0s 16ms/step - loss: 1.5336 - accuracy: 0.5185\n",
      "Epoch 52/100\n",
      "1/1 [==============================] - 0s 16ms/step - loss: 1.4995 - accuracy: 0.5185\n",
      "Epoch 53/100\n",
      "1/1 [==============================] - 0s 15ms/step - loss: 1.4387 - accuracy: 0.5926\n",
      "Epoch 54/100\n",
      "1/1 [==============================] - 0s 15ms/step - loss: 1.4331 - accuracy: 0.5556\n",
      "Epoch 55/100\n",
      "1/1 [==============================] - 0s 11ms/step - loss: 1.3833 - accuracy: 0.7037\n",
      "Epoch 56/100\n",
      "1/1 [==============================] - 0s 16ms/step - loss: 1.3586 - accuracy: 0.6667\n",
      "Epoch 57/100\n",
      "1/1 [==============================] - 0s 16ms/step - loss: 1.3140 - accuracy: 0.7037\n",
      "Epoch 58/100\n",
      "1/1 [==============================] - 0s 13ms/step - loss: 1.3003 - accuracy: 0.7407\n",
      "Epoch 59/100\n",
      "1/1 [==============================] - 0s 13ms/step - loss: 1.2781 - accuracy: 0.7037\n",
      "Epoch 60/100\n",
      "1/1 [==============================] - 0s 14ms/step - loss: 1.2547 - accuracy: 0.6296\n",
      "Epoch 61/100\n",
      "1/1 [==============================] - 0s 14ms/step - loss: 1.2445 - accuracy: 0.7037\n",
      "Epoch 62/100\n",
      "1/1 [==============================] - 0s 15ms/step - loss: 1.1833 - accuracy: 0.8519\n",
      "Epoch 63/100\n",
      "1/1 [==============================] - 0s 14ms/step - loss: 1.2024 - accuracy: 0.6667\n",
      "Epoch 64/100\n",
      "1/1 [==============================] - 0s 13ms/step - loss: 1.2125 - accuracy: 0.7407\n",
      "Epoch 65/100\n",
      "1/1 [==============================] - 0s 11ms/step - loss: 1.1643 - accuracy: 0.7407\n",
      "Epoch 66/100\n",
      "1/1 [==============================] - 0s 17ms/step - loss: 1.1707 - accuracy: 0.7037\n",
      "Epoch 67/100\n",
      "1/1 [==============================] - 0s 15ms/step - loss: 1.0944 - accuracy: 0.9259\n",
      "Epoch 68/100\n",
      "1/1 [==============================] - 0s 15ms/step - loss: 1.1020 - accuracy: 0.8889\n",
      "Epoch 69/100\n",
      "1/1 [==============================] - 0s 14ms/step - loss: 1.0421 - accuracy: 0.8889\n",
      "Epoch 70/100\n",
      "1/1 [==============================] - 0s 14ms/step - loss: 1.0744 - accuracy: 0.7037\n",
      "Epoch 71/100\n",
      "1/1 [==============================] - 0s 14ms/step - loss: 1.0086 - accuracy: 0.9630\n",
      "Epoch 72/100\n",
      "1/1 [==============================] - 0s 14ms/step - loss: 1.0278 - accuracy: 0.8889\n",
      "Epoch 73/100\n",
      "1/1 [==============================] - 0s 15ms/step - loss: 0.9730 - accuracy: 0.9630\n",
      "Epoch 74/100\n",
      "1/1 [==============================] - 0s 15ms/step - loss: 0.9892 - accuracy: 0.7407\n",
      "Epoch 75/100\n",
      "1/1 [==============================] - 0s 14ms/step - loss: 0.9422 - accuracy: 0.9259\n",
      "Epoch 76/100\n",
      "1/1 [==============================] - 0s 14ms/step - loss: 0.9419 - accuracy: 0.9259\n",
      "Epoch 77/100\n",
      "1/1 [==============================] - 0s 15ms/step - loss: 0.9231 - accuracy: 0.9630\n",
      "Epoch 78/100\n",
      "1/1 [==============================] - 0s 34ms/step - loss: 0.8982 - accuracy: 0.9259\n",
      "Epoch 79/100\n",
      "1/1 [==============================] - 0s 14ms/step - loss: 0.8974 - accuracy: 0.8889\n",
      "Epoch 80/100\n",
      "1/1 [==============================] - 0s 12ms/step - loss: 0.8662 - accuracy: 0.9630\n",
      "Epoch 81/100\n",
      "1/1 [==============================] - 0s 10ms/step - loss: 0.8673 - accuracy: 0.9630\n",
      "Epoch 82/100\n",
      "1/1 [==============================] - 0s 11ms/step - loss: 0.8393 - accuracy: 0.9630\n",
      "Epoch 83/100\n"
     ]
    },
    {
     "name": "stdout",
     "output_type": "stream",
     "text": [
      "1/1 [==============================] - 0s 12ms/step - loss: 0.8363 - accuracy: 0.8889\n",
      "Epoch 84/100\n",
      "1/1 [==============================] - 0s 11ms/step - loss: 0.8143 - accuracy: 0.9630\n",
      "Epoch 85/100\n",
      "1/1 [==============================] - 0s 10ms/step - loss: 0.8057 - accuracy: 0.9630\n",
      "Epoch 86/100\n",
      "1/1 [==============================] - 0s 13ms/step - loss: 0.7921 - accuracy: 0.9630\n",
      "Epoch 87/100\n",
      "1/1 [==============================] - 0s 10ms/step - loss: 0.7767 - accuracy: 0.9630\n",
      "Epoch 88/100\n",
      "1/1 [==============================] - 0s 10ms/step - loss: 0.7688 - accuracy: 0.9259\n",
      "Epoch 89/100\n",
      "1/1 [==============================] - 0s 11ms/step - loss: 0.7515 - accuracy: 0.9630\n",
      "Epoch 90/100\n",
      "1/1 [==============================] - 0s 9ms/step - loss: 0.7453 - accuracy: 0.9630\n",
      "Epoch 91/100\n",
      "1/1 [==============================] - 0s 10ms/step - loss: 0.7278 - accuracy: 0.9630\n",
      "Epoch 92/100\n",
      "1/1 [==============================] - 0s 12ms/step - loss: 0.7227 - accuracy: 0.9630\n",
      "Epoch 93/100\n",
      "1/1 [==============================] - 0s 12ms/step - loss: 0.7064 - accuracy: 0.9630\n",
      "Epoch 94/100\n",
      "1/1 [==============================] - 0s 9ms/step - loss: 0.7004 - accuracy: 0.9630\n",
      "Epoch 95/100\n",
      "1/1 [==============================] - 0s 9ms/step - loss: 0.6853 - accuracy: 0.9630\n",
      "Epoch 96/100\n",
      "1/1 [==============================] - 0s 9ms/step - loss: 0.6800 - accuracy: 0.9630\n",
      "Epoch 97/100\n",
      "1/1 [==============================] - 0s 12ms/step - loss: 0.6658 - accuracy: 0.9630\n",
      "Epoch 98/100\n",
      "1/1 [==============================] - 0s 11ms/step - loss: 0.6594 - accuracy: 0.9630\n",
      "Epoch 99/100\n",
      "1/1 [==============================] - 0s 14ms/step - loss: 0.6467 - accuracy: 0.9630\n",
      "Epoch 100/100\n",
      "1/1 [==============================] - 0s 12ms/step - loss: 0.6408 - accuracy: 0.9630\n"
     ]
    },
    {
     "data": {
      "text/plain": [
       "<keras.src.callbacks.History at 0x23e449d7e50>"
      ]
     },
     "execution_count": 9,
     "metadata": {},
     "output_type": "execute_result"
    }
   ],
   "source": [
    "# Train the model\n",
    "model.fit(X, y, epochs=100, verbose=1)"
   ]
  },
  {
   "cell_type": "code",
   "execution_count": 22,
   "id": "0e0955fb",
   "metadata": {},
   "outputs": [],
   "source": [
    "# Generate new text\n",
    "seed_text = \"The quick brown fox\"\n",
    "next_words = 5"
   ]
  },
  {
   "cell_type": "code",
   "execution_count": 23,
   "id": "0c3585cc",
   "metadata": {},
   "outputs": [],
   "source": [
    "for _ in range(next_words):\n",
    "    token_list = tokenizer.texts_to_sequences([seed_text])[0]\n",
    "    token_list = tf.keras.preprocessing.sequence.pad_sequences([token_list], maxlen=max_sequence_length-1, padding='pre')\n",
    "    predicted_probs = model.predict(token_list, verbose=0)\n",
    "    predicted_index = np.argmax(predicted_probs)\n",
    "    output_word = \"\"\n",
    "    for word, index in tokenizer.word_index.items():\n",
    "        if index == predicted_index:\n",
    "            output_word = word\n",
    "            break\n",
    "    seed_text += \" \" + output_word"
   ]
  },
  {
   "cell_type": "code",
   "execution_count": 24,
   "id": "f81256d1",
   "metadata": {},
   "outputs": [
    {
     "name": "stdout",
     "output_type": "stream",
     "text": [
      "The quick brown fox jumps over the lazy dog\n"
     ]
    }
   ],
   "source": [
    "print(seed_text)"
   ]
  },
  {
   "cell_type": "code",
   "execution_count": null,
   "id": "04dfe5ff",
   "metadata": {},
   "outputs": [],
   "source": []
  },
  {
   "cell_type": "code",
   "execution_count": null,
   "id": "7b037ec4",
   "metadata": {},
   "outputs": [],
   "source": []
  },
  {
   "cell_type": "code",
   "execution_count": null,
   "id": "8567c40d",
   "metadata": {},
   "outputs": [],
   "source": []
  },
  {
   "cell_type": "code",
   "execution_count": null,
   "id": "8c83b4b6",
   "metadata": {},
   "outputs": [],
   "source": []
  },
  {
   "cell_type": "code",
   "execution_count": null,
   "id": "88a913de",
   "metadata": {},
   "outputs": [],
   "source": []
  },
  {
   "cell_type": "code",
   "execution_count": null,
   "id": "66875568",
   "metadata": {},
   "outputs": [],
   "source": []
  },
  {
   "cell_type": "code",
   "execution_count": null,
   "id": "d3f38fd3",
   "metadata": {},
   "outputs": [],
   "source": []
  },
  {
   "cell_type": "code",
   "execution_count": null,
   "id": "b7a868e4",
   "metadata": {},
   "outputs": [],
   "source": []
  },
  {
   "cell_type": "code",
   "execution_count": null,
   "id": "0b594e8c",
   "metadata": {},
   "outputs": [],
   "source": []
  },
  {
   "cell_type": "code",
   "execution_count": null,
   "id": "a2f286a0",
   "metadata": {},
   "outputs": [],
   "source": []
  },
  {
   "cell_type": "code",
   "execution_count": null,
   "id": "f02e3d58",
   "metadata": {},
   "outputs": [],
   "source": []
  },
  {
   "cell_type": "code",
   "execution_count": null,
   "id": "3a6e4761",
   "metadata": {},
   "outputs": [],
   "source": []
  },
  {
   "cell_type": "code",
   "execution_count": null,
   "id": "221917a4",
   "metadata": {},
   "outputs": [],
   "source": []
  },
  {
   "cell_type": "code",
   "execution_count": null,
   "id": "f7fb63c7",
   "metadata": {},
   "outputs": [],
   "source": []
  },
  {
   "cell_type": "code",
   "execution_count": null,
   "id": "ee64cdd6",
   "metadata": {},
   "outputs": [],
   "source": []
  },
  {
   "cell_type": "code",
   "execution_count": null,
   "id": "d7abc5a1",
   "metadata": {},
   "outputs": [],
   "source": []
  },
  {
   "cell_type": "code",
   "execution_count": null,
   "id": "79c31893",
   "metadata": {},
   "outputs": [],
   "source": []
  },
  {
   "cell_type": "code",
   "execution_count": null,
   "id": "eff01e1c",
   "metadata": {},
   "outputs": [],
   "source": []
  },
  {
   "cell_type": "code",
   "execution_count": null,
   "id": "f1ca94cc",
   "metadata": {},
   "outputs": [],
   "source": [
    "\n",
    "\n",
    "\n",
    "\n",
    "\n",
    "\n",
    "\n",
    "\n",
    "\n",
    "\n",
    "\n",
    "\n",
    "\n",
    "\n",
    "\n",
    "\n",
    "\n",
    "\n",
    "\n",
    "\n",
    "\n"
   ]
  }
 ],
 "metadata": {
  "kernelspec": {
   "display_name": "nlp_env",
   "language": "python",
   "name": "nlp_env"
  },
  "language_info": {
   "codemirror_mode": {
    "name": "ipython",
    "version": 3
   },
   "file_extension": ".py",
   "mimetype": "text/x-python",
   "name": "python",
   "nbconvert_exporter": "python",
   "pygments_lexer": "ipython3",
   "version": "3.11.4"
  }
 },
 "nbformat": 4,
 "nbformat_minor": 5
}
